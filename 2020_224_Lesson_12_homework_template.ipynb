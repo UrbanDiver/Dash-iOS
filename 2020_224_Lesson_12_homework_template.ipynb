{
  "nbformat": 4,
  "nbformat_minor": 0,
  "metadata": {
    "colab": {
      "name": "Copy of Copy of 2020 224 Lesson 12 homework template.ipynb",
      "provenance": [],
      "collapsed_sections": [],
      "include_colab_link": true
    },
    "kernelspec": {
      "name": "python3",
      "display_name": "Python 3"
    }
  },
  "cells": [
    {
      "cell_type": "markdown",
      "metadata": {
        "id": "view-in-github",
        "colab_type": "text"
      },
      "source": [
        "<a href=\"https://colab.research.google.com/github/UrbanDiver/Dash-iOS/blob/master/2020_224_Lesson_12_homework_template.ipynb\" target=\"_parent\"><img src=\"https://colab.research.google.com/assets/colab-badge.svg\" alt=\"Open In Colab\"/></a>"
      ]
    },
    {
      "cell_type": "markdown",
      "metadata": {
        "id": "WKl2ttZrufIW",
        "colab_type": "text"
      },
      "source": [
        "# 2020 224 Lesson 12 homework template"
      ]
    },
    {
      "cell_type": "markdown",
      "metadata": {
        "id": "hQ0gCSp1sST9",
        "colab_type": "text"
      },
      "source": [
        "# Bike commuting\n",
        "\n",
        "You commute every day from Home to Work in the morning and from Work to Home in the evening.  You own N bicycles which can be safely stored at Work or at Home, even overnight.\n",
        "\n",
        "![alt text](https://peshkin.mech.northwestern.edu/images/bikerain.png)\n",
        "\n",
        "Of course you prefer to ride your bike, and in a perfect world you would need only one bike and you would get to ride it both ways every day.  But sometime it rains in the morning and you have to take a cab to work.   And sometimes it rains in the evening and you have to take a cab home.  \n",
        "* You own N bicycles which can be safely stored at Work or at Home.\n",
        "* The chance of rain in the morning is p.  \n",
        "* The chance of rain in the evening is p.\n",
        "* Rain in the morning is independent of rain in the evening.\n",
        "\n",
        "If you take a cab to work, you may be lucky and another bike is there, so you can ride it home.  Or there might be none there and you have to take a cab home.  Or it might rain.  \n",
        "\n",
        "Similarly at home.\n",
        "\n",
        "**Question:** in the long run, on what fraction `(Pcab)` of your trips do you have to take a cab?  So for instance if you commute both ways every day for a year, and you have to take a cab 17 times, `Pcab = 17/(2*365) = 0.023`\n",
        "\n",
        "\n",
        "**Your task:** code this up for general N and p, and for a large number of commutes to get good stats.\n",
        "\n",
        "Find `Pcab`, at least for p=0.1, and for N = 0, 1, 2, 3, infinity\n",
        "\n",
        "\n",
        "**Tips:**\n",
        "* Think if it makes sense\n",
        "* `p` is a lower bound for `Pcab`\n",
        "* A good check to build into your program is whether you still own N bikes\n",
        "* Edge cases: no bikes, or very large number of bikes\n",
        "* Most interesting case: one bike\n"
      ]
    },
    {
      "cell_type": "code",
      "metadata": {
        "id": "12ElsAFOunnb",
        "colab_type": "code",
        "outputId": "155ed1cd-1c54-4173-b853-ba3ea9a66654",
        "colab": {
          "base_uri": "https://localhost:8080/",
          "height": 34
        }
      },
      "source": [
        "import random\n",
        "\n",
        "Nbikes = 1   # i own this many bikes\n",
        "p = 0.2      # probability of rain\n",
        "\n",
        "ndays = 36500   # each day has two trips\n",
        "ncab = 0     # how many times did i need to take a cab\n",
        "nride = 0    # how many times did i get to ride a bike\n",
        "\n",
        "nhome = Nbikes   # all bikes start at home... does it matter?\n",
        "nwork = 0\n",
        "\n",
        "...\n"
      ],
      "execution_count": 0,
      "outputs": [
        {
          "output_type": "stream",
          "text": [
            "ndays = 36500 , p = 0.2 , Nbikes = 1 , (check:nwork+nhome = 1 ), nride = 48763 , ncab = 24237 , Pcab = 0.33201369863013697\n"
          ],
          "name": "stdout"
        }
      ]
    },
    {
      "cell_type": "markdown",
      "metadata": {
        "id": "2rSn-WLsC6t8",
        "colab_type": "text"
      },
      "source": [
        "# Monte Hall problem\n",
        "The [Monte Hall problem](https://www.scientificamerican.com/article/how-randomness-rules-our-world/) is the subject of this week's Riddler on 538.  It's named after game show host [Monte Hall](https://en.wikipedia.org/wiki/Monty_Hall) of *Let's make a deal.*  It was addressed by [Marilyn Vos Savant](https://en.wikipedia.org/wiki/Marilyn_vos_Savant), the smartest person in the world, who was neverthless [attacked by everone with a PhD](https://priceonomics.com/the-time-everyone-corrected-the-worlds-smartest/) for months despite being right.  Great story.  \n",
        "\n",
        "The new [538 Riddler version](https://fivethirtyeight.com/features/can-you-beat-the-goat-monty-hall-problem/) will be homework.\n",
        "\n",
        "\n",
        "![alt text](https://peshkin.mech.northwestern.edu/images/montehall.png)\n",
        "\n",
        "## Classic Monte Hall problem\n",
        "In the original problem, there are three doors, two of which have goats behind them, while the third has a prize. You pick one of the doors, and then Monty (who knows in advance which door has the prize) will always open another door, revealing a goat behind it. It’s then up to you to choose whether to **stay** with your initial guess or to **switch** to the remaining door. Your best bet is to switch doors, in which case you will win the prize two-thirds of the time.\n"
      ]
    },
    {
      "cell_type": "code",
      "metadata": {
        "id": "MU0nnb5GbBC5",
        "colab_type": "code",
        "outputId": "7f360c24-5742-4bea-c86a-2cf45a8c56cf",
        "colab": {
          "base_uri": "https://localhost:8080/",
          "height": 34
        }
      },
      "source": [
        "# monty hall problem\n",
        "\n",
        "import random\n",
        "(staywins, switchwins) = (0, 0)\n",
        "\n",
        "def play():\n",
        "    car = int(random.random() * 3)   # car is behind door number 0,1,2\n",
        "\n",
        "    myguess = int(random.random() * 3)   # i guess at random\n",
        "    montyopens = int(random.random() * 3)   # start monty with a random door to open\n",
        "\n",
        "    while (montyopens == myguess or montyopens == car):   # but it can't be mine, and it can't be a car\n",
        "        montyopens = int(random.random() * 3)\n",
        "\n",
        "    return(myguess == car)\n",
        "\n",
        "ntrials = 10000\n",
        "for i in range(ntrials):\n",
        "    if play():\n",
        "        staywins += 1\n",
        "    else:\n",
        "        switchwins += 1\n",
        "\n",
        "print('ntrials =', ntrials, ', stay wins =', staywins, ', switch wins =', switchwins)"
      ],
      "execution_count": 0,
      "outputs": [
        {
          "output_type": "stream",
          "text": [
            "ntrials = 10000 , stay wins = 3350 , switch wins = 6650\n"
          ],
          "name": "stdout"
        }
      ]
    },
    {
      "cell_type": "markdown",
      "metadata": {
        "id": "wjcG3CI8d9X9",
        "colab_type": "text"
      },
      "source": [
        "## New 538 Riddler version\n",
        "The Monty Hall problem is a classic case of conditional probability. In the original problem, there are three doors, two of which have goats behind them, while the third has a prize. You pick one of the doors, and then Monty (who knows in advance which door has the prize) will always open another door, revealing a goat behind it. It’s then up to you to choose whether to stay with your initial guess or to switch to the remaining door. Your best bet is to switch doors, in which case you will win the prize two-thirds of the time.\n",
        "\n",
        "Now suppose Monty changes the rules. First, he will randomly pick a number of goats to put behind the doors: zero, one, two or three, each with a 25 percent chance. After the number of goats is chosen, they are assigned to the doors at random, and each door has at most one goat. Any doors that don’t have a goat behind them have an identical prize behind them.\n",
        "\n",
        "At this point, you choose a door. If Monty is able to open another door, revealing a goat, he will do so. But if no other doors have goats behind them, he will tell you that is the case.\n",
        "\n",
        "It just so happens that when you play, Monty is able to open another door, revealing a goat behind it. Should you stay with your original selection or switch? And what are your chances of winning the prize?\n",
        "\n"
      ]
    },
    {
      "cell_type": "markdown",
      "metadata": {
        "id": "Iug2aeayn9dd",
        "colab_type": "text"
      },
      "source": [
        "### Notes\n",
        "Unlike the classic problem, sometimes Monty can't reveal a goat.  These are do-overs, they don't count as wins.\n",
        "\n",
        "I found it made coding easier if I put the N goats behind the doors in order, e.g. if N=1 the goat was behind door #0, if N=2 the goats were behind doors #0 and #1.  In the sim all the door-choosing is random, so this bit of predictability can't be exploited by the contestant or the host.\n",
        "\n",
        "Although this variation involves N=0,1,2,3 goats with equal likelihood, it reduces to the classic problem if N=2.  Your program should do right on that.  \n",
        "\n",
        "You can figure this out without code if you are the smartest person in the world.  But code it anyway.\n",
        "\n"
      ]
    },
    {
      "cell_type": "code",
      "metadata": {
        "id": "VM7JR944eYst",
        "colab_type": "code",
        "outputId": "5e568c10-4092-424c-e702-3b27d4508e27",
        "colab": {
          "base_uri": "https://localhost:8080/",
          "height": 34
        }
      },
      "source": [
        "# new monty problem\n",
        "\n",
        "import random\n",
        "\n",
        "ntrials = 1000000\n",
        "staywins = 0\n",
        "switchwins = 0\n",
        "games = 0\n",
        "\n",
        "...\n"
      ],
      "execution_count": 0,
      "outputs": [
        {
          "output_type": "execute_result",
          "data": {
            "text/plain": [
              "Ellipsis"
            ]
          },
          "metadata": {
            "tags": []
          },
          "execution_count": 38
        }
      ]
    },
    {
      "cell_type": "code",
      "metadata": {
        "id": "ItxwSxMiuHF3",
        "colab_type": "code",
        "colab": {}
      },
      "source": [
        "import random\n",
        "\n",
        "ntrials = 1000000\n",
        "staywins = 0\n",
        "switchwins = 0\n",
        "games = 0\n",
        "num_doors = 3\n"
      ],
      "execution_count": 0,
      "outputs": []
    },
    {
      "cell_type": "code",
      "metadata": {
        "id": "mdQ3HUBu9WDb",
        "colab_type": "code",
        "colab": {}
      },
      "source": [
        "def generate_trial():\n",
        "  num_goats = random.randint(0,3)\n",
        "  doors = {i:'prize' for i in range(num_doors)}\n",
        "  for i in range(num_goats):\n",
        "    doors[i]='goat'\n",
        "  return doors"
      ],
      "execution_count": 0,
      "outputs": []
    },
    {
      "cell_type": "code",
      "metadata": {
        "id": "mWyUkU2F_0Qi",
        "colab_type": "code",
        "colab": {}
      },
      "source": [
        "def pick_door():\n",
        "  return random.randint(0,num_doors-1)"
      ],
      "execution_count": 0,
      "outputs": []
    },
    {
      "cell_type": "code",
      "metadata": {
        "id": "eWVBmW0o_3CF",
        "colab_type": "code",
        "colab": {}
      },
      "source": [
        "def show_goat(doors, chosen):\n",
        "  for door in range(num_doors):\n",
        "    if door == chosen:\n",
        "      continue\n",
        "    if doors[door] == 'goat':\n",
        "      return door \n",
        "  return -1"
      ],
      "execution_count": 0,
      "outputs": []
    },
    {
      "cell_type": "code",
      "metadata": {
        "id": "qlActf3WK1pG",
        "colab_type": "code",
        "colab": {}
      },
      "source": [
        "def conduct_trials():\n",
        "  \n",
        "  shown_goats = 0\n",
        "  stay_wins = 0\n",
        "  switch_wins = 0\n",
        "\n",
        "  for trial in range(ntrials):\n",
        "    doors = generate_trial()\n",
        "    doorlist = [door for door in range(num_doors)]\n",
        "    chosen_door = pick_door()\n",
        "    doorlist.remove(chosen_door)\n",
        "    shown_door = show_goat(doors, chosen_door)\n",
        "    if shown_door < 0:\n",
        "      continue\n",
        "    doorlist.remove(shown_door)\n",
        "    shown_goats += 1\n",
        "    if doors[chosen_door] == 'prize':\n",
        "      stay_wins += 1\n",
        "    if doors[doorlist.pop()] == 'prize':\n",
        "      switch_wins += 1\n",
        "\n",
        "  print(ntrials, shown_goats, stay_wins, switch_wins)\n"
      ],
      "execution_count": 0,
      "outputs": []
    },
    {
      "cell_type": "code",
      "metadata": {
        "id": "rugbvyUpRVfI",
        "colab_type": "code",
        "outputId": "1f4200ee-e6b0-4856-b422-f51d8f19333c",
        "colab": {
          "base_uri": "https://localhost:8080/",
          "height": 34
        }
      },
      "source": [
        "conduct_trials()\n"
      ],
      "execution_count": 0,
      "outputs": [
        {
          "output_type": "stream",
          "text": [
            "1000000 666181 249984 333233\n"
          ],
          "name": "stdout"
        }
      ]
    }
  ]
}